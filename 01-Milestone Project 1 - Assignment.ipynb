{
 "cells": [
  {
   "cell_type": "markdown",
   "metadata": {},
   "source": [
    "___\n",
    "\n",
    "<a href='https://www.udemy.com/user/joseportilla/'><img src='../Pierian_Data_Logo.png'/></a>\n",
    "___\n",
    "<center><em>Content Copyright by Pierian Data</em></center>"
   ]
  },
  {
   "cell_type": "markdown",
   "metadata": {},
   "source": [
    "# Milestone Project 1\n",
    "## Congratulations on making it to your first milestone!\n",
    "You've already learned a ton and are ready to work on a real project.\n",
    "\n",
    "Your assignment: Create a Tic Tac Toe game. You are free to use any IDE you like.\n",
    "\n",
    "Here are the requirements:\n",
    "\n",
    "* 2 players should be able to play the game (both sitting at the same computer)\n",
    "* The board should be printed out every time a player makes a move\n",
    "* You should be able to accept input of the player position and then place a symbol on the board\n",
    "\n",
    "Feel free to use Google to help you figure anything out (but don't just Google \"Tic Tac Toe in Python\" otherwise you won't learn anything!) Keep in mind that this project can take anywhere between several hours to several days.\n",
    "\n",
    "There are 4 Jupyter Notebooks related to this assignment:\n",
    "\n",
    "* This Assignment Notebook\n",
    "* A \"Walkthrough Steps Workbook\" Notebook\n",
    "* A \"Complete Walkthrough Solution\" Notebook\n",
    "* An \"Advanced Solution\" Notebook\n",
    "\n",
    "I encourage you to just try to start the project on your own without referencing any of the notebooks. If you get stuck, check out the next lecture which is a text lecture with helpful hints and steps. If you're still stuck after that, then check out the Walkthrough Steps Workbook, which breaks up the project in steps for you to solve. Still stuck? Then check out the Complete Walkthrough Solution video for more help on approaching the project!"
   ]
  },
  {
   "cell_type": "markdown",
   "metadata": {},
   "source": [
    "There are parts of this that will be a struggle...and that is good! I have complete faith that if you have made it this far through the course you have all the tools and knowledge to tackle this project. Remember, it's totally open book, so take your time, do a little research, and remember:\n",
    "\n",
    "## HAVE FUN!"
   ]
  },
  {
   "cell_type": "code",
   "execution_count": 593,
   "metadata": {},
   "outputs": [],
   "source": [
    "from IPython.display import clear_output\n",
    "\n",
    "# Generates board\n",
    "def generate_board(board):\n",
    "    board_layout = '''\\\n",
    "    {}  |  {}  |  {} \n",
    "    ---------------\n",
    "    {}  |  {}  |  {}  \n",
    "    ---------------\n",
    "    {}  |  {}  |  {}'''.format(*board) # Unpacks the 'board' list into 'board_layout'\n",
    "    print(board_layout)\n",
    "\n",
    "# Accepts and validates user input\n",
    "def request_input():\n",
    "    condition = 'not met'\n",
    "    global board\n",
    "    # Only break out of this input loop when condition met\n",
    "    while condition == 'not met':\n",
    "        choice = input('Enter a valid position (1-9): ')\n",
    "        if choice.isdigit() and 1<= int(choice) <= 9 and choice in board:\n",
    "            board = list(board)\n",
    "            board[int(choice)-1] = turn\n",
    "            condition = 'met'\n",
    "\n",
    "# switches to other player    \n",
    "def switch_player():\n",
    "    global turn\n",
    "    # X goes first, then change to O\n",
    "    if turn == 'X':\n",
    "        turn = 'O'\n",
    "    elif turn == 'O':\n",
    "        turn = 'X'\n",
    "    return turn\n",
    "\n",
    "# Determine which player won after a move is made\n",
    "def check_win_condition():\n",
    "    board_str = ''.join(board)\n",
    "    global winner\n",
    "    if turn == 'X':\n",
    "        # Check if X won\n",
    "        # horizontal vertical and diagonal checks\n",
    "        if (board_str[0:3:1] == 'XXX' or board_str[3:6:1] == 'XXX' or board_str[6:10:1] == 'XXX'\n",
    "            or board_str[0:10:3] == 'XXX' or board_str[1:10:3] == 'XXX' or board_str[2:10:3] == 'XXX'\n",
    "            or board_str [0:10:4] == 'XXX' or board_str [2:8:2] == 'XXX'):\n",
    "            winner = 'X'\n",
    "            return winner\n",
    "            \n",
    "    elif turn == 'O':\n",
    "        if (board_str[0:3:1] == 'OOO' or board_str[3:6:1] == 'OOO' or board_str[6:10:1] == 'OOO'\n",
    "            or board_str[0:10:3] == 'OOO' or board_str[1:10:3] == 'OOO' or board_str[2:10:3] == 'OOO'\n",
    "            or board_str [0:10:4] == 'OOO' or board_str [2:8:2] == 'OOO'):\n",
    "            winner = 'O'\n",
    "            return winner"
   ]
  },
  {
   "cell_type": "code",
   "execution_count": 598,
   "metadata": {},
   "outputs": [
    {
     "name": "stdout",
     "output_type": "stream",
     "text": [
      "    O  |  O  |  X \n",
      "    ---------------\n",
      "    O  |  X  |  X  \n",
      "    ---------------\n",
      "    X  |  8  |  9\n",
      "\n",
      "The winner is  X\n"
     ]
    }
   ],
   "source": [
    "print('Tic Tac Toe\\n')\n",
    "board = ['1','2','3','4','5','6','7','8','9']\n",
    "turn = 'X'\n",
    "winner = 'no_one'\n",
    "n = 0\n",
    "while winner == 'no_one' and winner != 'draw':\n",
    "    print('it is ', turn, \"\\'s turn\\n\")\n",
    "    generate_board(board)\n",
    "    request_input()\n",
    "    clear_output()\n",
    "    check_win_condition()\n",
    "    switch_player()\n",
    "    if n == 9:\n",
    "        winner = 'draw'\n",
    "    n += 1\n",
    "\n",
    "generate_board(board)\n",
    "print('\\nThe winner is ', winner)"
   ]
  },
  {
   "cell_type": "code",
   "execution_count": 599,
   "metadata": {},
   "outputs": [
    {
     "data": {
      "text/plain": [
       "['O', 'O', 'X', 'O', 'X', 'X', 'X', '8', '9']"
      ]
     },
     "execution_count": 599,
     "metadata": {},
     "output_type": "execute_result"
    }
   ],
   "source": [
    "board"
   ]
  },
  {
   "cell_type": "code",
   "execution_count": null,
   "metadata": {},
   "outputs": [],
   "source": []
  }
 ],
 "metadata": {
  "kernelspec": {
   "display_name": "Python 3",
   "language": "python",
   "name": "python3"
  },
  "language_info": {
   "codemirror_mode": {
    "name": "ipython",
    "version": 3
   },
   "file_extension": ".py",
   "mimetype": "text/x-python",
   "name": "python",
   "nbconvert_exporter": "python",
   "pygments_lexer": "ipython3",
   "version": "3.8.5"
  }
 },
 "nbformat": 4,
 "nbformat_minor": 1
}
